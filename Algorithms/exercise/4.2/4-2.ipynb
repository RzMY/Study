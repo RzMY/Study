{
 "cells": [
  {
   "cell_type": "markdown",
   "metadata": {},
   "source": [
    "### 问题描述\n",
    "\n",
    "有 <i>n</i> 个底面为长方形的货柜需要租用库房存放，且每个货柜必须放地面上，所有货柜底面宽度都等于库房宽度。第 <i>i</i> 个货柜占用库房面积大小只需用底面长度 <i>L<sub>i</sub></i> 表示，<i>i = 0, 1, ..., n</i>。设库房总长度为 <i>D</i>。如果要求放入库房货柜个数最多？那么应该选用哪种算法设计技术？"
   ]
  },
  {
   "cell_type": "markdown",
   "metadata": {},
   "source": [
    "### 贪心算法\n",
    "贪心算法（Greedy Alogorithm）又叫登山算法，它的根本思想是逐步到达山顶，即逐步获得最优解，是解决最优化问题时的一种简单但是适用范围有限的策略。\n",
    "贪心算法没有固定的框架，算法设计的关键是贪婪策略的选择。贪心策略要无后向性，也就是说某状态以后的过程不会影响以前的状态，至于当前状态有关。\n",
    "贪心算法是对某些求解最优解问题的最简单、最迅速的技术。某些问题的最优解可以通过一系列的最优的选择即贪心选择来达到。但局部最优并不总能获得整体最优解，但通常能获得近似最优解。\n",
    "在每一步贪心选择中，只考虑当前对自己最有利的选择，而不去考虑在后面看来这种选择是否合理。\n",
    "\n",
    "#### 找出全局最优解的要求\n",
    "一个问题能否使用贪心算法解决问题，取决于以下两点：\n",
    "* 最优子结构（optimal subproblem structure,和动态规划中的是一个概念）\n",
    "* 最优贪心选择属性（optimal greedy choice property）\n",
    "\n",
    "#### 贪婪策略\n",
    "贪心算法的原理是通过局部最优来达到全局最优，采用的是逐步构造最优解的方法。\n",
    "要选出最优解不是一件容易的事，要证明局部最优为全局最优，要进行数学证明，否则就不能说明为全局最优。"
   ]
  },
  {
   "cell_type": "markdown",
   "metadata": {},
   "source": [
    "### 贪心策略的选择\n",
    "运用贪心法，选择贪心策略为优先放入长度最短的货柜。\n"
   ]
  },
  {
   "attachments": {
    "image.png": {
     "image/png": "[encoded data removed]"
    }
   },
   "cell_type": "markdown",
   "metadata": {},
   "source": [
    "### 伪码表示\n",
    "![image.png](attachment:image.png)"
   ]
  },
  {
   "cell_type": "code",
   "execution_count": 3,
   "metadata": {},
   "outputs": [
    {
     "name": "stdout",
     "output_type": "stream",
     "text": [
      "最大数量： 4\n"
     ]
    }
   ],
   "source": [
    "# 伪码实现\n",
    "def max_containers(L, D):\n",
    "    L.sort()\n",
    "    total_length = 0\n",
    "    count = 0\n",
    "    for length in L:\n",
    "        if total_length + length <= D:\n",
    "            total_length += length\n",
    "            count += 1\n",
    "        else:\n",
    "            break\n",
    "    return count\n",
    "\n",
    "L = [2, 3, 5, 1, 4]\n",
    "D = 10\n",
    "print(\"最大数量：\", max_containers(L, D))"
   ]
  },
  {
   "cell_type": "markdown",
   "metadata": {},
   "source": [
    "### 算法正确性证明\n",
    "要证明该贪心算法的正确性，即证明贪心策略的正确性，即按照货柜长度从小到大排序并依次放入的方法能够得到放入库房货柜数量的最大值。\n",
    "\n",
    "#### 交换论证\n",
    "* 假设最优解中第一个货柜的长度不是最小的，而是某个较大的货柜。\n",
    "* 将这个较大的货柜与贪心策略选择的第一个最小货柜交换位置。\n",
    "* 交换后，新的解仍然是有效的，因为较小的货柜更容易放入库房。\n",
    "* 继续这个过程，即可可以逐步将最优解转换为贪心策略的解，而不减少放入库房的货柜数量。\n",
    "\n",
    "则可证明：贪心策略得到的解与最优解是等价的。"
   ]
  },
  {
   "cell_type": "markdown",
   "metadata": {},
   "source": [
    "### 复杂度分析\n",
    "* 最坏的情况是输入长度序列为递减，最优排序算法的时间复杂度是O(nlogn)"
   ]
  },
  {
   "cell_type": "markdown",
   "metadata": {},
   "source": [
    "### 问题描述\n",
    "设有一条边远山区的道路AB，沿着道路AB分布着所房子。这些房子到A的距离分别是 <i>d<sub>1</sub></i>, <i>d<sub>2</sub></i>, …, <i>d<sub>n</sub></i> (<i>d<sub>1</sub></i> < <i>d<sub>2</sub></i> < … < <i>d<sub>n</sub></i>). 为了给所有房子的用户提供移动电话服务需要在这条道路上设置一些基站，为了保证通信质量，每所房子应该位于距离某个基站的4km范围之内，设计一个算法找到基站的位置，并且使得基站总数达到最少？"
   ]
  },
  {
   "cell_type": "markdown",
   "metadata": {},
   "source": [
    "### 贪心策略选择\n",
    "* 从最左边的房子开始处理\n",
    "* 对于当前房子，在其右侧4km处放置基站\n",
    "* 该基站可以覆盖左侧4km和右侧4km范围内的所有房子\n",
    "* 跳过所有被当前基站覆盖的房子\n",
    "* 重复此过程直到所有房子都被覆盖"
   ]
  },
  {
   "attachments": {
    "image.png": {
     "image/png": "[encoded data removed]"
    }
   },
   "cell_type": "markdown",
   "metadata": {},
   "source": [
    "### 伪码表示\n",
    "![image.png](attachment:image.png)"
   ]
  },
  {
   "cell_type": "code",
   "execution_count": 6,
   "metadata": {},
   "outputs": [
    {
     "name": "stdout",
     "output_type": "stream",
     "text": [
      "基站位置： [5, 16]\n",
      "基站数量： 2\n"
     ]
    }
   ],
   "source": [
    "# 伪码实现\n",
    "def place_stations(houses):\n",
    "    \n",
    "    n = len(houses)\n",
    "    stations = [] # 存储基站位置\n",
    "\n",
    "    i = 0\n",
    "    while i < n:\n",
    "        # 在当前房子右侧4km处放置基站\n",
    "        station = houses[i] + 4\n",
    "        stations.append(station)\n",
    "        # 跳过所有被当前基站覆盖的房子\n",
    "        while i < n and houses[i] <= station + 4:\n",
    "            i += 1\n",
    "    return stations\n",
    "\n",
    "houses = [1, 3, 7, 12, 15, 20]\n",
    "stations = place_stations(houses)\n",
    "print(\"基站位置：\", stations)\n",
    "print(\"基站数量：\", len(stations))"
   ]
  },
  {
   "cell_type": "markdown",
   "metadata": {},
   "source": [
    "### 算法正确性证明\n",
    "\n",
    "1. 设贪心算法得到解为G，基站位置集合为{s₁, s₂, ..., sₖ} 假设存在最优解O，基站数量少于k个，解O第一个基站位置为t₁\n",
    "* 若t₁ > s₁：t₁无法覆盖d₁(因为s₁是能覆盖d₁的最右位置)\n",
    "* 若t₁ < s₁：将t₁右移至s₁位置不会减少覆盖范围\n",
    "2. 归纳证明，假设前i-1个基站位置相同，对第i个基站：\n",
    "* G中s<sub>i</sub>放在首个未覆盖房子右侧4km处\n",
    "* O中若t<sub>i</sub>位置不同，用相同论证可证明t<sub>i</sub>可移动到s<sub>i</sub>位置\n",
    "3. 得出矛盾，通过逐步调整，O可转换为G，但O的基站数量不可能少于G，与假设矛盾"
   ]
  },
  {
   "cell_type": "markdown",
   "metadata": {},
   "source": [
    "### 算法复杂度分析\n",
    "* 时间复杂度为O(n)，最坏情况下，每个房子间距8km，外层循环需要遍历每个房子，时间复杂度仍是O(n)"
   ]
  }
 ],
 "metadata": {
  "kernelspec": {
   "display_name": "base",
   "language": "python",
   "name": "python3"
  },
  "language_info": {
   "codemirror_mode": {
    "name": "ipython",
    "version": 3
   },
   "file_extension": ".py",
   "mimetype": "text/x-python",
   "name": "python",
   "nbconvert_exporter": "python",
   "pygments_lexer": "ipython3",
   "version": "3.12.3"
  }
 },
 "nbformat": 4,
 "nbformat_minor": 2
}
