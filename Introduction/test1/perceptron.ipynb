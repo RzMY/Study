{
 "cells": [
  {
   "cell_type": "code",
   "execution_count": 1,
   "metadata": {},
   "outputs": [],
   "source": [
    "import numpy as np\n",
    "\n",
    "class Per202203792:\n",
    "    def AND(self, x1, x2):\n",
    "        x = np.array([x1, x2])\n",
    "        w = np.array([0.5, 0.5])  # 权重\n",
    "        b = -0.7  # 偏置\n",
    "        tmp = np.sum(w * x) + b\n",
    "        if tmp <= 0:\n",
    "            return 0\n",
    "        else:\n",
    "            return 1\n",
    "        \n",
    "    def NAND(self, x1, x2):\n",
    "        x = np.array([x1, x2])\n",
    "        w = np.array([-0.5, -0.5])  # 权重\n",
    "        b = 0.7  # 偏置\n",
    "        tmp = np.sum(w * x) + b\n",
    "        if tmp <= 0:\n",
    "            return 0\n",
    "        else:\n",
    "            return 1\n",
    "        \n",
    "    def OR(self, x1, x2):\n",
    "        x = np.array([x1, x2])\n",
    "        w = np.array([0.5, 0.5])  # 权重\n",
    "        b = -0.2  # 偏置\n",
    "        tmp = np.sum(w * x) + b\n",
    "        if tmp <= 0:\n",
    "            return 0\n",
    "        else:\n",
    "            return 1\n",
    "        \n",
    "    def XOR(self, x1, x2):\n",
    "        s1 = self.NAND(x1, x2)\n",
    "        s2 = self.OR(x1, x2)\n",
    "        y = self.AND(s1, s2)\n",
    "        return y"
   ]
  },
  {
   "cell_type": "code",
   "execution_count": 2,
   "metadata": {},
   "outputs": [],
   "source": [
    "c = Per202203792()"
   ]
  },
  {
   "cell_type": "code",
   "execution_count": 3,
   "metadata": {},
   "outputs": [
    {
     "name": "stdout",
     "output_type": "stream",
     "text": [
      "*****NAND*****\n",
      "NAND(0, 0) =  1\n",
      "NAND(0, 1) =  1\n",
      "NAND(1, 0) =  1\n",
      "NAND(1, 1) =  0\n",
      "*****AND*****\n",
      "AND(0, 0) =  0\n",
      "AND(0, 1) =  0\n",
      "AND(1, 0) =  0\n",
      "AND(1, 1) =  1\n",
      "*****OR*****\n",
      "OR(0, 0) =  0\n",
      "OR(0, 1) =  1\n",
      "OR(1, 0) =  1\n",
      "OR(1, 1) =  1\n",
      "*****XOR*****\n",
      "XOR(0, 0) =  0\n",
      "XOR(0, 1) =  1\n",
      "XOR(1, 0) =  1\n",
      "XOR(1, 1) =  0\n"
     ]
    }
   ],
   "source": [
    "print(\"*****NAND*****\")\n",
    "print(\"NAND(0, 0) = \", c.NAND(0, 0))\n",
    "print(\"NAND(0, 1) = \", c.NAND(0, 1))\n",
    "print(\"NAND(1, 0) = \", c.NAND(1, 0))\n",
    "print(\"NAND(1, 1) = \", c.NAND(1, 1))\n",
    "print(\"*****AND*****\")\n",
    "print(\"AND(0, 0) = \", c.AND(0, 0))\n",
    "print(\"AND(0, 1) = \", c.AND(0, 1))\n",
    "print(\"AND(1, 0) = \", c.AND(1, 0))\n",
    "print(\"AND(1, 1) = \", c.AND(1, 1))\n",
    "print(\"*****OR*****\")\n",
    "print(\"OR(0, 0) = \", c.OR(0, 0))\n",
    "print(\"OR(0, 1) = \", c.OR(0, 1))\n",
    "print(\"OR(1, 0) = \", c.OR(1, 0))\n",
    "print(\"OR(1, 1) = \", c.OR(1, 1))\n",
    "print(\"*****XOR*****\")\n",
    "print(\"XOR(0, 0) = \", c.XOR(0, 0))\n",
    "print(\"XOR(0, 1) = \", c.XOR(0, 1))\n",
    "print(\"XOR(1, 0) = \", c.XOR(1, 0))\n",
    "print(\"XOR(1, 1) = \", c.XOR(1, 1))"
   ]
  }
 ],
 "metadata": {
  "kernelspec": {
   "display_name": "py38",
   "language": "python",
   "name": "python3"
  },
  "language_info": {
   "codemirror_mode": {
    "name": "ipython",
    "version": 3
   },
   "file_extension": ".py",
   "mimetype": "text/x-python",
   "name": "python",
   "nbconvert_exporter": "python",
   "pygments_lexer": "ipython3",
   "version": "3.10.16"
  }
 },
 "nbformat": 4,
 "nbformat_minor": 2
}
