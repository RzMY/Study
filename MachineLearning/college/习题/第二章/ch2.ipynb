{
 "cells": [
  {
   "cell_type": "code",
   "execution_count": 1,
   "metadata": {},
   "outputs": [
    {
     "name": "stdout",
     "output_type": "stream",
     "text": [
      "National\n"
     ]
    }
   ],
   "source": [
    "mystr = \"the National Day\"\n",
    "print(mystr.split()[1])"
   ]
  },
  {
   "cell_type": "code",
   "execution_count": 2,
   "metadata": {},
   "outputs": [
    {
     "name": "stdout",
     "output_type": "stream",
     "text": [
      "National\n"
     ]
    }
   ],
   "source": [
    "mylist = [\"the\", \"National\", \"Day\"]\n",
    "print(mylist[1])"
   ]
  },
  {
   "cell_type": "code",
   "execution_count": 5,
   "metadata": {},
   "outputs": [
    {
     "name": "stdout",
     "output_type": "stream",
     "text": [
      "(['Today', 'is', 'the'], 'National', 'Day')\n"
     ]
    }
   ],
   "source": [
    "tpl = (['10.1', 'is', 'the'], 'National', 'Day')\n",
    "tpl[0][0] = 'Today'\n",
    "print(tpl)"
   ]
  },
  {
   "cell_type": "code",
   "execution_count": 6,
   "metadata": {},
   "outputs": [
    {
     "name": "stdout",
     "output_type": "stream",
     "text": [
      "{'name': 'J Hotel', 'count': 36, 'price': 162}\n"
     ]
    }
   ],
   "source": [
    "Hotel = {\"name\": \"J Hotel\", \"count\": 35, \"price\": 162}\n",
    "Hotel[\"count\"] = 36\n",
    "print(Hotel)"
   ]
  },
  {
   "cell_type": "code",
   "execution_count": 7,
   "metadata": {},
   "outputs": [
    {
     "name": "stdout",
     "output_type": "stream",
     "text": [
      "False\n"
     ]
    }
   ],
   "source": [
    "Htls = {\"A Hotel\", \"B Hotel\", \"C Hotel\"}\n",
    "print(\"E Hotel\" in Htls)"
   ]
  },
  {
   "cell_type": "code",
   "execution_count": 3,
   "metadata": {},
   "outputs": [
    {
     "name": "stdout",
     "output_type": "stream",
     "text": [
      "fruit_label\tfruit_name\tfruit_subtype\tmass\twidth\theight\tcolor_score\n",
      "\n",
      "1\tapple\tgranny_smith\t192\t8.4\t7.3\t0.55\n",
      "\n",
      "1\tapple\tgranny_smith\t180\t8.0\t6.8\t0.59\n",
      "\n",
      "1\tapple\tgranny_smith\t176\t7.4\t7.2\t0.60\n",
      "\n",
      "2\tmandarin\tmandarin\t86 \t6.2\t4.7\t0.80\n",
      "\n",
      "2\tmandarin\tmandarin\t84 \t6.0\t4.6\t0.79\n",
      "\n",
      "2\tmandarin\tmandarin\t80 \t5.8\t4.3\t0.77\n",
      "\n",
      "2\tmandarin\tmandarin\t80 \t5.9 \t4.3\t0.81\n",
      "\n",
      "2\tmandarin\tmandarin\t76\t5.8\t4.0\t0.81\n",
      "\n",
      "1\tapple\tbraeburn\t178\t7.1\t7.8\t0.92\n",
      "\n",
      "1\tapple\tbraeburn\t172\t7.4\t7.0\t0.89\n",
      "\n"
     ]
    }
   ],
   "source": [
    "file_path = 'fruit_data_with_colors.txt'\n",
    "with open(file_path, 'r') as file:\n",
    "    lines = file.readlines()[:11]\n",
    "for line in lines:\n",
    "    print(line)"
   ]
  },
  {
   "cell_type": "code",
   "execution_count": 4,
   "metadata": {},
   "outputs": [
    {
     "name": "stdout",
     "output_type": "stream",
     "text": [
      "   fruit_label fruit_name fruit_subtype  mass  width  height  color_score\n",
      "0            1      apple  granny_smith   192    8.4     7.3         0.55\n",
      "1            1      apple  granny_smith   180    8.0     6.8         0.59\n",
      "2            1      apple  granny_smith   176    7.4     7.2         0.60\n",
      "3            2   mandarin      mandarin    86    6.2     4.7         0.80\n",
      "4            2   mandarin      mandarin    84    6.0     4.6         0.79\n",
      "5            2   mandarin      mandarin    80    5.8     4.3         0.77\n",
      "6            2   mandarin      mandarin    80    5.9     4.3         0.81\n",
      "7            2   mandarin      mandarin    76    5.8     4.0         0.81\n",
      "8            1      apple      braeburn   178    7.1     7.8         0.92\n",
      "9            1      apple      braeburn   172    7.4     7.0         0.89\n"
     ]
    }
   ],
   "source": [
    "import pandas as pd\n",
    "df = pd.read_csv(file_path, sep='\\t')\n",
    "print(df.head(10))"
   ]
  }
 ],
 "metadata": {
  "kernelspec": {
   "display_name": "Python 3",
   "language": "python",
   "name": "python3"
  },
  "language_info": {
   "codemirror_mode": {
    "name": "ipython",
    "version": 3
   },
   "file_extension": ".py",
   "mimetype": "text/x-python",
   "name": "python",
   "nbconvert_exporter": "python",
   "pygments_lexer": "ipython3",
   "version": "3.11.2"
  }
 },
 "nbformat": 4,
 "nbformat_minor": 2
}
