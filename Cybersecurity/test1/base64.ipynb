{
 "cells": [
  {
   "cell_type": "code",
   "execution_count": 20,
   "metadata": {},
   "outputs": [],
   "source": [
    "import base64\n",
    "\n",
    "def base64_encode(data):\n",
    "    return base64.b64encode(data).decode('utf-8')\n",
    "\n",
    "def base64_decode(data):\n",
    "    return base64.b64decode(data.encode('utf-8'))\n"
   ]
  },
  {
   "cell_type": "code",
   "execution_count": 21,
   "metadata": {},
   "outputs": [
    {
     "name": "stdout",
     "output_type": "stream",
     "text": [
      "Encoded: SGVsbG8sIFdvcmxkIQ==\n"
     ]
    }
   ],
   "source": [
    "txt = 'Hello, World!'\n",
    "encoded = base64_encode(txt.encode('utf-8'))\n",
    "print(f'Encoded: {encoded}')"
   ]
  },
  {
   "cell_type": "code",
   "execution_count": 22,
   "metadata": {},
   "outputs": [
    {
     "name": "stdout",
     "output_type": "stream",
     "text": [
      "Decoded: Hello, World!\n"
     ]
    }
   ],
   "source": [
    "encoded_txt = 'SGVsbG8sIFdvcmxkIQ=='\n",
    "decoded = base64_decode(encoded_txt)\n",
    "print(f'Decoded: {decoded.decode(\"utf-8\")}')"
   ]
  }
 ],
 "metadata": {
  "kernelspec": {
   "display_name": "Study",
   "language": "python",
   "name": "python3"
  },
  "language_info": {
   "codemirror_mode": {
    "name": "ipython",
    "version": 3
   },
   "file_extension": ".py",
   "mimetype": "text/x-python",
   "name": "python",
   "nbconvert_exporter": "python",
   "pygments_lexer": "ipython3",
   "version": "3.10.16"
  }
 },
 "nbformat": 4,
 "nbformat_minor": 2
}
