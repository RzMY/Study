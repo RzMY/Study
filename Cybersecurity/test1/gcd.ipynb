{
 "cells": [
  {
   "cell_type": "code",
   "execution_count": 1,
   "metadata": {},
   "outputs": [],
   "source": [
    "# 欧几里得算法\n",
    "def euclidean_algorithm(a, b):\n",
    "    while b != 0:\n",
    "        a, b = b, a % b\n",
    "    return a\n",
    "\n",
    "# 扩展欧几里得算法\n",
    "def extended_euclidean_algorithm(a, b):\n",
    "    if b == 0:\n",
    "        return a, 1, 0\n",
    "    else:\n",
    "        gcd, x, y = extended_euclidean_algorithm(b, a % b)\n",
    "        return gcd, y, x - (a // b) * y"
   ]
  },
  {
   "cell_type": "code",
   "execution_count": 5,
   "metadata": {},
   "outputs": [
    {
     "name": "stdout",
     "output_type": "stream",
     "text": [
      "6\n",
      "7\n"
     ]
    }
   ],
   "source": [
    "print(euclidean_algorithm(30, 12))\n",
    "print(extended_euclidean_algorithm(73, 255)[1])"
   ]
  }
 ],
 "metadata": {
  "kernelspec": {
   "display_name": "Study",
   "language": "python",
   "name": "python3"
  },
  "language_info": {
   "codemirror_mode": {
    "name": "ipython",
    "version": 3
   },
   "file_extension": ".py",
   "mimetype": "text/x-python",
   "name": "python",
   "nbconvert_exporter": "python",
   "pygments_lexer": "ipython3",
   "version": "3.10.16"
  }
 },
 "nbformat": 4,
 "nbformat_minor": 2
}
