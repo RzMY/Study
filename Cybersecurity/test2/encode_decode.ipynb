{
 "cells": [
  {
   "cell_type": "code",
   "execution_count": 3,
   "metadata": {},
   "outputs": [],
   "source": [
    "from Crypto.Cipher import AES\n",
    "from Crypto.Random import get_random_bytes\n",
    "from base64 import b64encode, b64decode\n",
    "import os\n",
    "\n",
    "# PKCS7 填充与去填充函数\n",
    "def pad(data: bytes) -> bytes:\n",
    "    block_size = AES.block_size\n",
    "    padding_length = block_size - (len(data) % block_size)\n",
    "    return data + bytes([padding_length]) * padding_length\n",
    "\n",
    "def unpad(data: bytes) -> bytes:\n",
    "    padding_length = data[-1]\n",
    "    if padding_length > AES.block_size:\n",
    "        raise ValueError(\"Invalid padding\")\n",
    "    return data[:-padding_length]\n",
    "\n",
    "# 加密函数\n",
    "def encrypt(plaintext: str, key: bytes) -> str:\n",
    "    iv = get_random_bytes(AES.block_size)  # 生成随机 IV\n",
    "    cipher = AES.new(key, AES.MODE_CBC, iv)\n",
    "    padded_text = pad(plaintext.encode('utf-8'))\n",
    "    ciphertext = cipher.encrypt(padded_text)\n",
    "    # 将 IV 和密文拼接，然后 Base64 编码\n",
    "    encrypted_data = iv + ciphertext\n",
    "    return b64encode(encrypted_data).decode('utf-8')\n",
    "\n",
    "# 解密函数\n",
    "def decrypt(ciphertext_b64: str, key: bytes) -> str:\n",
    "    encrypted_data = b64decode(ciphertext_b64)\n",
    "    iv = encrypted_data[:AES.block_size]  # 提取 IV\n",
    "    ciphertext = encrypted_data[AES.block_size:]  # 提取密文\n",
    "    cipher = AES.new(key, AES.MODE_CBC, iv)\n",
    "    decrypted_padded = cipher.decrypt(ciphertext)\n",
    "    decrypted = unpad(decrypted_padded)\n",
    "    return decrypted.decode('utf-8')"
   ]
  },
  {
   "cell_type": "code",
   "execution_count": 4,
   "metadata": {},
   "outputs": [
    {
     "name": "stdout",
     "output_type": "stream",
     "text": [
      "Encrypted: xpKNKuwlwThK/pecCdNDWHhATg4BYTmNeCAFuu0uBeEHU8XXiCVNAa3ia6XdAtNNCUEZnnr+ZGxIowt+M0fIBw==\n",
      "Decrypted: Hello, this is a secret message!\n"
     ]
    }
   ],
   "source": [
    "\n",
    "key = get_random_bytes(16)  # 生成 16 字节的密钥（AES-128）\n",
    "plain_text = \"Hello, this is a secret message!\"\n",
    "\n",
    "encrypted = encrypt(plain_text, key)\n",
    "print(\"Encrypted:\", encrypted)\n",
    "\n",
    "decrypted = decrypt(encrypted, key)\n",
    "print(\"Decrypted:\", decrypted)"
   ]
  }
 ],
 "metadata": {
  "kernelspec": {
   "display_name": "Study",
   "language": "python",
   "name": "python3"
  },
  "language_info": {
   "codemirror_mode": {
    "name": "ipython",
    "version": 3
   },
   "file_extension": ".py",
   "mimetype": "text/x-python",
   "name": "python",
   "nbconvert_exporter": "python",
   "pygments_lexer": "ipython3",
   "version": "3.10.16"
  }
 },
 "nbformat": 4,
 "nbformat_minor": 2
}
